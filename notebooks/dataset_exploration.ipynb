{
 "cells": [
  {
   "cell_type": "markdown",
   "metadata": {},
   "source": [
    "### Imports"
   ]
  },
  {
   "cell_type": "code",
   "execution_count": 1,
   "metadata": {},
   "outputs": [],
   "source": [
    "import pandas as pd\n",
    "import numpy as np\n",
    "from geolocating_functions import chicago_lat_long_builder, get_community_name\n",
    "pd.options.mode.chained_assignment = None"
   ]
  },
  {
   "cell_type": "markdown",
   "metadata": {},
   "source": [
    "### Crimes Dataset"
   ]
  },
  {
   "cell_type": "markdown",
   "metadata": {},
   "source": [
    "#### Filtering 2019"
   ]
  },
  {
   "cell_type": "code",
   "execution_count": 24,
   "metadata": {},
   "outputs": [],
   "source": [
    "crimes_full = pd.read_csv('Crimes_-_2001_to_Present.csv')"
   ]
  },
  {
   "cell_type": "code",
   "execution_count": 26,
   "metadata": {},
   "outputs": [],
   "source": [
    "crimes_full[crimes_full['Year'] == 2019].reset_index(drop=True).to_pickle('crimes_2019.pkl')"
   ]
  },
  {
   "cell_type": "code",
   "execution_count": 27,
   "metadata": {},
   "outputs": [],
   "source": [
    "crimes_2019 = pd.read_pickle('crimes_2019.pkl')"
   ]
  },
  {
   "cell_type": "code",
   "execution_count": 28,
   "metadata": {},
   "outputs": [],
   "source": [
    "crimes_2019.columns"
   ]
  },
  {
   "cell_type": "markdown",
   "metadata": {},
   "source": [
    "#### Isolating columns of choice, drop null"
   ]
  },
  {
   "cell_type": "code",
   "execution_count": 29,
   "metadata": {},
   "outputs": [],
   "source": [
    "crimes = crimes_2019[['Arrest', 'Primary Type', 'Description', 'Domestic', 'Community Area', 'Location']].dropna().reset_index(drop=True)\n",
    "\n",
    "crimes.rename(columns={'Arrest': 'arrest', 'Primary Type': 'type', 'Description': 'desc',\n",
    "                       'Domestic': 'domestic', 'Community Area': 'comm_num', 'Location': 'location'}, inplace=True, errors='ignore')"
   ]
  },
  {
   "cell_type": "code",
   "execution_count": 30,
   "metadata": {},
   "outputs": [],
   "source": [
    "crimes['location'] = crimes['location'].apply(chicago_lat_long_builder)"
   ]
  },
  {
   "cell_type": "markdown",
   "metadata": {},
   "source": [
    "#### Convert community number to name"
   ]
  },
  {
   "cell_type": "code",
   "execution_count": 31,
   "metadata": {},
   "outputs": [],
   "source": [
    "crimes['comm_num'] = crimes['comm_num'].astype(int)"
   ]
  },
  {
   "cell_type": "code",
   "execution_count": 32,
   "metadata": {},
   "outputs": [],
   "source": [
    "comm_map = pd.read_pickle('comm_map.pkl')"
   ]
  },
  {
   "cell_type": "code",
   "execution_count": 33,
   "metadata": {},
   "outputs": [],
   "source": [
    "comm_num_to_name_dict = {}\n",
    "\n",
    "for index, row in comm_map.iterrows():\n",
    "    comm_num_to_name_dict[row['comm_num']] = row['comm_name']"
   ]
  },
  {
   "cell_type": "code",
   "execution_count": 34,
   "metadata": {},
   "outputs": [],
   "source": [
    "crimes['community_name'] = crimes['comm_num'].apply(lambda x: comm_num_to_name_dict[x])"
   ]
  },
  {
   "cell_type": "code",
   "execution_count": 35,
   "metadata": {},
   "outputs": [],
   "source": [
    "crimes.to_pickle('crimes.pkl')"
   ]
  },
  {
   "cell_type": "code",
   "execution_count": 3,
   "metadata": {},
   "outputs": [],
   "source": [
    "crimes = pd.read_pickle('crimes.pkl')"
   ]
  },
  {
   "cell_type": "markdown",
   "metadata": {},
   "source": [
    "### Bringing in the rest"
   ]
  },
  {
   "cell_type": "markdown",
   "metadata": {},
   "source": [
    "#### Adding Community Housing Metrics"
   ]
  },
  {
   "cell_type": "code",
   "execution_count": 4,
   "metadata": {},
   "outputs": [],
   "source": [
    "community_housing_metrics = pd.read_pickle('community_housing_metrics.pkl')"
   ]
  },
  {
   "cell_type": "code",
   "execution_count": 5,
   "metadata": {},
   "outputs": [],
   "source": [
    "community_housing_metrics.rename(columns={'Geography': 'community_name', \\\n",
    "                                          'Single Family': 'pct_sfh', \\\n",
    "                                          'Condominium': 'pct_condo', \\\n",
    "                                          'Building with 2-4 Units': 'pct_2_to_4_unit_building', \\\n",
    "                                          'Building with 5+ Units': 'pct_5_plus_unit_building'}, inplace=True, errors='ignore')"
   ]
  },
  {
   "cell_type": "code",
   "execution_count": 6,
   "metadata": {},
   "outputs": [],
   "source": [
    "crimes_comm_metrics = pd.merge(crimes, community_housing_metrics, on='community_name', how='inner')"
   ]
  },
  {
   "cell_type": "markdown",
   "metadata": {},
   "source": [
    "#### Merging Crime Radius Metrics"
   ]
  },
  {
   "cell_type": "code",
   "execution_count": 7,
   "metadata": {},
   "outputs": [],
   "source": [
    "radius_metrics = pd.read_pickle('crime_metrics.pkl')"
   ]
  },
  {
   "cell_type": "code",
   "execution_count": 8,
   "metadata": {},
   "outputs": [],
   "source": [
    "crimes_comm_radius_metrics = pd.concat([crimes_comm_metrics, round(radius_metrics, 3)], axis=1)"
   ]
  },
  {
   "cell_type": "code",
   "execution_count": 9,
   "metadata": {},
   "outputs": [],
   "source": [
    "crimes_comm_radius_metrics.fillna(0, inplace=True)"
   ]
  },
  {
   "cell_type": "code",
   "execution_count": 11,
   "metadata": {},
   "outputs": [],
   "source": [
    "crimes_comm_radius_metrics['housing_market_health'] = (\n",
    "    (crimes_comm_radius_metrics['total_mortgages'] - crimes_comm_radius_metrics['total_foreclosures']) / crimes_comm_radius_metrics['total_mortgages']\n",
    ")"
   ]
  },
  {
   "cell_type": "code",
   "execution_count": 12,
   "metadata": {},
   "outputs": [],
   "source": [
    "crimes_comm_radius_metrics.drop(['total_mortgages', 'total_foreclosures'], axis=1, inplace=True, errors='ignore')"
   ]
  },
  {
   "cell_type": "code",
   "execution_count": 13,
   "metadata": {},
   "outputs": [],
   "source": [
    "crimes_comm_radius_metrics.to_pickle('crimes_comm_radius_metrics.pkl')"
   ]
  },
  {
   "cell_type": "markdown",
   "metadata": {},
   "source": [
    "### Building Modeling DataFrame"
   ]
  },
  {
   "cell_type": "markdown",
   "metadata": {},
   "source": [
    "#### Many columns need slight adjustments"
   ]
  },
  {
   "cell_type": "code",
   "execution_count": 7,
   "metadata": {},
   "outputs": [],
   "source": [
    "crimes_comm_radius_metrics = pd.read_pickle('crimes_comm_radius_metrics.pkl')"
   ]
  },
  {
   "cell_type": "code",
   "execution_count": 8,
   "metadata": {},
   "outputs": [],
   "source": [
    "crimes_comm_radius_metrics['type_desc'] = crimes_comm_radius_metrics['type'] + ' ' + crimes_comm_radius_metrics['desc']"
   ]
  },
  {
   "cell_type": "code",
   "execution_count": 9,
   "metadata": {},
   "outputs": [],
   "source": [
    "crimes_comm_radius_metrics['type_desc'] = crimes_comm_radius_metrics['type_desc'].apply(lambda x: x.lower().replace(' ', '_'))"
   ]
  },
  {
   "cell_type": "code",
   "execution_count": 10,
   "metadata": {},
   "outputs": [],
   "source": [
    "crimes_comm_radius_metrics['arrest'] = crimes_comm_radius_metrics['arrest'].apply(lambda x: 1 if x == True else 0)"
   ]
  },
  {
   "cell_type": "code",
   "execution_count": 11,
   "metadata": {},
   "outputs": [],
   "source": [
    "crimes_comm_radius_metrics['domestic'] = crimes_comm_radius_metrics['domestic'].apply(lambda x: 1 if x == True else 0)"
   ]
  },
  {
   "cell_type": "code",
   "execution_count": 12,
   "metadata": {},
   "outputs": [],
   "source": [
    "crimes_comm_radius_metrics['prestigious_school'] = crimes_comm_radius_metrics['prestigious_school'] * 100"
   ]
  },
  {
   "cell_type": "code",
   "execution_count": 13,
   "metadata": {},
   "outputs": [],
   "source": [
    "crimes_comm_radius_metrics['pct_grocery_stores_over_10000_sq_ft'] = crimes_comm_radius_metrics['pct_grocery_stores_over_10000_sq_ft'] * 100"
   ]
  },
  {
   "cell_type": "code",
   "execution_count": 14,
   "metadata": {},
   "outputs": [],
   "source": [
    "crimes_comm_radius_metrics['pct_high_risk_food_establishments'] = crimes_comm_radius_metrics['pct_high_risk_food_establishments'] * 100"
   ]
  },
  {
   "cell_type": "code",
   "execution_count": 15,
   "metadata": {},
   "outputs": [],
   "source": [
    "crimes_comm_radius_metrics['pct_failed_inspections'] = crimes_comm_radius_metrics['pct_failed_inspections'] * 100"
   ]
  },
  {
   "cell_type": "markdown",
   "metadata": {},
   "source": [
    "#### Grading 'school quality' based on total scores from survey and growth rating"
   ]
  },
  {
   "cell_type": "code",
   "execution_count": 16,
   "metadata": {},
   "outputs": [],
   "source": [
    "school_quality_totals = crimes_comm_radius_metrics[['student_growth_rating', 'school_survey_involved_families', 'school_survey_supportive_environment', \\\n",
    "                      'school_survey_ambitious_instruction', 'school_survey_effective_leaders', \\\n",
    "                      'school_survey_collaborative_teachers', 'school_survey_safety']].T.sum()"
   ]
  },
  {
   "cell_type": "code",
   "execution_count": 17,
   "metadata": {},
   "outputs": [],
   "source": [
    "def school_quality_splits(val):\n",
    "    \n",
    "    if val < 20:\n",
    "        return 'low_avg_school_quality'\n",
    "    elif (val < 23) & (val >= 20):\n",
    "        return 'average_school_quality'\n",
    "    elif (val < 26) & (val >= 23):\n",
    "        return 'slightly_above_average_school_quality'\n",
    "    else:\n",
    "        return 'highly_above_average_school_quality'"
   ]
  },
  {
   "cell_type": "code",
   "execution_count": 19,
   "metadata": {},
   "outputs": [],
   "source": [
    "crimes_comm_radius_metrics['school_quality'] = school_quality_totals.apply(school_quality_splits)"
   ]
  },
  {
   "cell_type": "markdown",
   "metadata": {},
   "source": [
    "#### Isolating the crime types to care about"
   ]
  },
  {
   "cell_type": "code",
   "execution_count": 20,
   "metadata": {},
   "outputs": [],
   "source": [
    "def crime_type_desc(crime_type):\n",
    "    \n",
    "    if 'domestic_battery' in crime_type:\n",
    "        return 'domestic_battery'\n",
    "    elif 'battery_agg' in crime_type:\n",
    "        return 'aggravated_battery'\n",
    "    elif 'battery' in crime_type:\n",
    "        return 'simple_battery'\n",
    "    elif 'assault' in crime_type:\n",
    "        return 'assault'\n",
    "    elif 'deceptive_practice' in crime_type:\n",
    "        return 'deceptive_practice'\n",
    "    elif 'weapons_violation' in crime_type:\n",
    "        return 'weapons_violation'\n",
    "    elif 'narcotics' in crime_type:\n",
    "        return 'narcotics'\n",
    "    elif 'criminal_damage' in crime_type:\n",
    "        return 'criminal_damage'\n",
    "    elif 'criminal_trespass' in crime_type:\n",
    "        return 'criminal_trespass'\n",
    "    elif 'burglary' in crime_type:\n",
    "        return 'burglary'\n",
    "    elif 'robbery' in crime_type:\n",
    "        return 'robbery'\n",
    "    elif 'retail_theft' in crime_type:\n",
    "        return 'retail_theft'\n",
    "    elif 'theft' in crime_type:\n",
    "        return 'theft'\n",
    "    else:\n",
    "        return 'other_offense'"
   ]
  },
  {
   "cell_type": "code",
   "execution_count": 21,
   "metadata": {},
   "outputs": [],
   "source": [
    "crimes_comm_radius_metrics['type_desc'] = crimes_comm_radius_metrics['type_desc'].apply(crime_type_desc)"
   ]
  },
  {
   "cell_type": "code",
   "execution_count": 22,
   "metadata": {},
   "outputs": [],
   "source": [
    "modeling_crimes_full = crimes_comm_radius_metrics.drop(['type',  'desc', 'comm_num', 'location', 'community_name'], axis=1)"
   ]
  },
  {
   "cell_type": "code",
   "execution_count": 44,
   "metadata": {},
   "outputs": [],
   "source": [
    "modeling_crimes = pd.concat([modeling_crimes_full.drop([\n",
    "                            'student_growth_rating', 'school_survey_involved_families',\n",
    "                            'school_survey_supportive_environment', 'school_survey_ambitious_instruction',\n",
    "                            'school_survey_effective_leaders', 'school_survey_collaborative_teachers',\n",
    "                            'school_survey_safety', 'school_quality', 'type_desc'], axis=1),\n",
    "                             pd.get_dummies(modeling_crimes_full['type_desc']),\n",
    "                             pd.get_dummies(modeling_crimes_full['school_quality'])], axis=1)"
   ]
  },
  {
   "cell_type": "code",
   "execution_count": 45,
   "metadata": {},
   "outputs": [
    {
     "data": {
      "text/html": [
       "<div>\n",
       "<style scoped>\n",
       "    .dataframe tbody tr th:only-of-type {\n",
       "        vertical-align: middle;\n",
       "    }\n",
       "\n",
       "    .dataframe tbody tr th {\n",
       "        vertical-align: top;\n",
       "    }\n",
       "\n",
       "    .dataframe thead th {\n",
       "        text-align: right;\n",
       "    }\n",
       "</style>\n",
       "<table border=\"1\" class=\"dataframe\">\n",
       "  <thead>\n",
       "    <tr style=\"text-align: right;\">\n",
       "      <th></th>\n",
       "      <th>arrest</th>\n",
       "      <th>domestic</th>\n",
       "      <th>pct_sfh</th>\n",
       "      <th>pct_condo</th>\n",
       "      <th>pct_2_to_4_unit_building</th>\n",
       "      <th>pct_5_plus_unit_building</th>\n",
       "      <th>pct_business_share_sales</th>\n",
       "      <th>mobility_rate_pct</th>\n",
       "      <th>chronic_truancy_pct</th>\n",
       "      <th>prestigious_school</th>\n",
       "      <th>...</th>\n",
       "      <th>other_offense</th>\n",
       "      <th>retail_theft</th>\n",
       "      <th>robbery</th>\n",
       "      <th>simple_battery</th>\n",
       "      <th>theft</th>\n",
       "      <th>weapons_violation</th>\n",
       "      <th>average_school_quality</th>\n",
       "      <th>highly_above_average_school_quality</th>\n",
       "      <th>low_avg_school_quality</th>\n",
       "      <th>slightly_above_average_school_quality</th>\n",
       "    </tr>\n",
       "  </thead>\n",
       "  <tbody>\n",
       "    <tr>\n",
       "      <th>0</th>\n",
       "      <td>0</td>\n",
       "      <td>0</td>\n",
       "      <td>63.1</td>\n",
       "      <td>0.0</td>\n",
       "      <td>22.0</td>\n",
       "      <td>14.9</td>\n",
       "      <td>42.5</td>\n",
       "      <td>21.700</td>\n",
       "      <td>16.950</td>\n",
       "      <td>0.0</td>\n",
       "      <td>...</td>\n",
       "      <td>1</td>\n",
       "      <td>0</td>\n",
       "      <td>0</td>\n",
       "      <td>0</td>\n",
       "      <td>0</td>\n",
       "      <td>0</td>\n",
       "      <td>0</td>\n",
       "      <td>0</td>\n",
       "      <td>0</td>\n",
       "      <td>1</td>\n",
       "    </tr>\n",
       "    <tr>\n",
       "      <th>1</th>\n",
       "      <td>0</td>\n",
       "      <td>1</td>\n",
       "      <td>63.1</td>\n",
       "      <td>0.0</td>\n",
       "      <td>22.0</td>\n",
       "      <td>14.9</td>\n",
       "      <td>42.5</td>\n",
       "      <td>26.800</td>\n",
       "      <td>62.640</td>\n",
       "      <td>40.0</td>\n",
       "      <td>...</td>\n",
       "      <td>0</td>\n",
       "      <td>0</td>\n",
       "      <td>0</td>\n",
       "      <td>0</td>\n",
       "      <td>0</td>\n",
       "      <td>0</td>\n",
       "      <td>1</td>\n",
       "      <td>0</td>\n",
       "      <td>0</td>\n",
       "      <td>0</td>\n",
       "    </tr>\n",
       "    <tr>\n",
       "      <th>2</th>\n",
       "      <td>0</td>\n",
       "      <td>0</td>\n",
       "      <td>63.1</td>\n",
       "      <td>0.0</td>\n",
       "      <td>22.0</td>\n",
       "      <td>14.9</td>\n",
       "      <td>42.5</td>\n",
       "      <td>22.800</td>\n",
       "      <td>53.367</td>\n",
       "      <td>33.3</td>\n",
       "      <td>...</td>\n",
       "      <td>0</td>\n",
       "      <td>0</td>\n",
       "      <td>0</td>\n",
       "      <td>0</td>\n",
       "      <td>0</td>\n",
       "      <td>0</td>\n",
       "      <td>1</td>\n",
       "      <td>0</td>\n",
       "      <td>0</td>\n",
       "      <td>0</td>\n",
       "    </tr>\n",
       "    <tr>\n",
       "      <th>3</th>\n",
       "      <td>0</td>\n",
       "      <td>0</td>\n",
       "      <td>63.1</td>\n",
       "      <td>0.0</td>\n",
       "      <td>22.0</td>\n",
       "      <td>14.9</td>\n",
       "      <td>42.5</td>\n",
       "      <td>10.900</td>\n",
       "      <td>42.300</td>\n",
       "      <td>50.0</td>\n",
       "      <td>...</td>\n",
       "      <td>0</td>\n",
       "      <td>0</td>\n",
       "      <td>0</td>\n",
       "      <td>0</td>\n",
       "      <td>0</td>\n",
       "      <td>0</td>\n",
       "      <td>0</td>\n",
       "      <td>0</td>\n",
       "      <td>0</td>\n",
       "      <td>1</td>\n",
       "    </tr>\n",
       "    <tr>\n",
       "      <th>4</th>\n",
       "      <td>0</td>\n",
       "      <td>1</td>\n",
       "      <td>63.1</td>\n",
       "      <td>0.0</td>\n",
       "      <td>22.0</td>\n",
       "      <td>14.9</td>\n",
       "      <td>42.5</td>\n",
       "      <td>18.667</td>\n",
       "      <td>39.967</td>\n",
       "      <td>33.3</td>\n",
       "      <td>...</td>\n",
       "      <td>1</td>\n",
       "      <td>0</td>\n",
       "      <td>0</td>\n",
       "      <td>0</td>\n",
       "      <td>0</td>\n",
       "      <td>0</td>\n",
       "      <td>1</td>\n",
       "      <td>0</td>\n",
       "      <td>0</td>\n",
       "      <td>0</td>\n",
       "    </tr>\n",
       "    <tr>\n",
       "      <th>...</th>\n",
       "      <td>...</td>\n",
       "      <td>...</td>\n",
       "      <td>...</td>\n",
       "      <td>...</td>\n",
       "      <td>...</td>\n",
       "      <td>...</td>\n",
       "      <td>...</td>\n",
       "      <td>...</td>\n",
       "      <td>...</td>\n",
       "      <td>...</td>\n",
       "      <td>...</td>\n",
       "      <td>...</td>\n",
       "      <td>...</td>\n",
       "      <td>...</td>\n",
       "      <td>...</td>\n",
       "      <td>...</td>\n",
       "      <td>...</td>\n",
       "      <td>...</td>\n",
       "      <td>...</td>\n",
       "      <td>...</td>\n",
       "      <td>...</td>\n",
       "    </tr>\n",
       "    <tr>\n",
       "      <th>258609</th>\n",
       "      <td>0</td>\n",
       "      <td>0</td>\n",
       "      <td>69.4</td>\n",
       "      <td>0.5</td>\n",
       "      <td>21.9</td>\n",
       "      <td>8.2</td>\n",
       "      <td>6.5</td>\n",
       "      <td>42.633</td>\n",
       "      <td>76.567</td>\n",
       "      <td>33.3</td>\n",
       "      <td>...</td>\n",
       "      <td>0</td>\n",
       "      <td>0</td>\n",
       "      <td>0</td>\n",
       "      <td>0</td>\n",
       "      <td>0</td>\n",
       "      <td>0</td>\n",
       "      <td>0</td>\n",
       "      <td>0</td>\n",
       "      <td>1</td>\n",
       "      <td>0</td>\n",
       "    </tr>\n",
       "    <tr>\n",
       "      <th>258610</th>\n",
       "      <td>0</td>\n",
       "      <td>0</td>\n",
       "      <td>69.4</td>\n",
       "      <td>0.5</td>\n",
       "      <td>21.9</td>\n",
       "      <td>8.2</td>\n",
       "      <td>6.5</td>\n",
       "      <td>10.000</td>\n",
       "      <td>23.300</td>\n",
       "      <td>0.0</td>\n",
       "      <td>...</td>\n",
       "      <td>0</td>\n",
       "      <td>0</td>\n",
       "      <td>0</td>\n",
       "      <td>0</td>\n",
       "      <td>1</td>\n",
       "      <td>0</td>\n",
       "      <td>0</td>\n",
       "      <td>0</td>\n",
       "      <td>1</td>\n",
       "      <td>0</td>\n",
       "    </tr>\n",
       "    <tr>\n",
       "      <th>258611</th>\n",
       "      <td>0</td>\n",
       "      <td>0</td>\n",
       "      <td>69.4</td>\n",
       "      <td>0.5</td>\n",
       "      <td>21.9</td>\n",
       "      <td>8.2</td>\n",
       "      <td>6.5</td>\n",
       "      <td>24.950</td>\n",
       "      <td>48.963</td>\n",
       "      <td>50.0</td>\n",
       "      <td>...</td>\n",
       "      <td>0</td>\n",
       "      <td>1</td>\n",
       "      <td>0</td>\n",
       "      <td>0</td>\n",
       "      <td>0</td>\n",
       "      <td>0</td>\n",
       "      <td>1</td>\n",
       "      <td>0</td>\n",
       "      <td>0</td>\n",
       "      <td>0</td>\n",
       "    </tr>\n",
       "    <tr>\n",
       "      <th>258612</th>\n",
       "      <td>0</td>\n",
       "      <td>0</td>\n",
       "      <td>69.4</td>\n",
       "      <td>0.5</td>\n",
       "      <td>21.9</td>\n",
       "      <td>8.2</td>\n",
       "      <td>6.5</td>\n",
       "      <td>17.783</td>\n",
       "      <td>27.780</td>\n",
       "      <td>50.0</td>\n",
       "      <td>...</td>\n",
       "      <td>0</td>\n",
       "      <td>0</td>\n",
       "      <td>0</td>\n",
       "      <td>0</td>\n",
       "      <td>0</td>\n",
       "      <td>0</td>\n",
       "      <td>1</td>\n",
       "      <td>0</td>\n",
       "      <td>0</td>\n",
       "      <td>0</td>\n",
       "    </tr>\n",
       "    <tr>\n",
       "      <th>258613</th>\n",
       "      <td>0</td>\n",
       "      <td>0</td>\n",
       "      <td>69.4</td>\n",
       "      <td>0.5</td>\n",
       "      <td>21.9</td>\n",
       "      <td>8.2</td>\n",
       "      <td>6.5</td>\n",
       "      <td>17.783</td>\n",
       "      <td>27.780</td>\n",
       "      <td>50.0</td>\n",
       "      <td>...</td>\n",
       "      <td>0</td>\n",
       "      <td>0</td>\n",
       "      <td>0</td>\n",
       "      <td>0</td>\n",
       "      <td>0</td>\n",
       "      <td>0</td>\n",
       "      <td>1</td>\n",
       "      <td>0</td>\n",
       "      <td>0</td>\n",
       "      <td>0</td>\n",
       "    </tr>\n",
       "  </tbody>\n",
       "</table>\n",
       "<p>258614 rows × 36 columns</p>\n",
       "</div>"
      ],
      "text/plain": [
       "        arrest  domestic  pct_sfh  pct_condo  pct_2_to_4_unit_building  \\\n",
       "0            0         0     63.1        0.0                      22.0   \n",
       "1            0         1     63.1        0.0                      22.0   \n",
       "2            0         0     63.1        0.0                      22.0   \n",
       "3            0         0     63.1        0.0                      22.0   \n",
       "4            0         1     63.1        0.0                      22.0   \n",
       "...        ...       ...      ...        ...                       ...   \n",
       "258609       0         0     69.4        0.5                      21.9   \n",
       "258610       0         0     69.4        0.5                      21.9   \n",
       "258611       0         0     69.4        0.5                      21.9   \n",
       "258612       0         0     69.4        0.5                      21.9   \n",
       "258613       0         0     69.4        0.5                      21.9   \n",
       "\n",
       "        pct_5_plus_unit_building  pct_business_share_sales  mobility_rate_pct  \\\n",
       "0                           14.9                      42.5             21.700   \n",
       "1                           14.9                      42.5             26.800   \n",
       "2                           14.9                      42.5             22.800   \n",
       "3                           14.9                      42.5             10.900   \n",
       "4                           14.9                      42.5             18.667   \n",
       "...                          ...                       ...                ...   \n",
       "258609                       8.2                       6.5             42.633   \n",
       "258610                       8.2                       6.5             10.000   \n",
       "258611                       8.2                       6.5             24.950   \n",
       "258612                       8.2                       6.5             17.783   \n",
       "258613                       8.2                       6.5             17.783   \n",
       "\n",
       "        chronic_truancy_pct  prestigious_school  ...  other_offense  \\\n",
       "0                    16.950                 0.0  ...              1   \n",
       "1                    62.640                40.0  ...              0   \n",
       "2                    53.367                33.3  ...              0   \n",
       "3                    42.300                50.0  ...              0   \n",
       "4                    39.967                33.3  ...              1   \n",
       "...                     ...                 ...  ...            ...   \n",
       "258609               76.567                33.3  ...              0   \n",
       "258610               23.300                 0.0  ...              0   \n",
       "258611               48.963                50.0  ...              0   \n",
       "258612               27.780                50.0  ...              0   \n",
       "258613               27.780                50.0  ...              0   \n",
       "\n",
       "        retail_theft  robbery  simple_battery  theft  weapons_violation  \\\n",
       "0                  0        0               0      0                  0   \n",
       "1                  0        0               0      0                  0   \n",
       "2                  0        0               0      0                  0   \n",
       "3                  0        0               0      0                  0   \n",
       "4                  0        0               0      0                  0   \n",
       "...              ...      ...             ...    ...                ...   \n",
       "258609             0        0               0      0                  0   \n",
       "258610             0        0               0      1                  0   \n",
       "258611             1        0               0      0                  0   \n",
       "258612             0        0               0      0                  0   \n",
       "258613             0        0               0      0                  0   \n",
       "\n",
       "        average_school_quality  highly_above_average_school_quality  \\\n",
       "0                            0                                    0   \n",
       "1                            1                                    0   \n",
       "2                            1                                    0   \n",
       "3                            0                                    0   \n",
       "4                            1                                    0   \n",
       "...                        ...                                  ...   \n",
       "258609                       0                                    0   \n",
       "258610                       0                                    0   \n",
       "258611                       1                                    0   \n",
       "258612                       1                                    0   \n",
       "258613                       1                                    0   \n",
       "\n",
       "        low_avg_school_quality  slightly_above_average_school_quality  \n",
       "0                            0                                      1  \n",
       "1                            0                                      0  \n",
       "2                            0                                      0  \n",
       "3                            0                                      1  \n",
       "4                            0                                      0  \n",
       "...                        ...                                    ...  \n",
       "258609                       1                                      0  \n",
       "258610                       1                                      0  \n",
       "258611                       0                                      0  \n",
       "258612                       0                                      0  \n",
       "258613                       0                                      0  \n",
       "\n",
       "[258614 rows x 36 columns]"
      ]
     },
     "execution_count": 45,
     "metadata": {},
     "output_type": "execute_result"
    }
   ],
   "source": [
    "modeling_crimes"
   ]
  },
  {
   "cell_type": "code",
   "execution_count": 46,
   "metadata": {},
   "outputs": [],
   "source": [
    "modeling_crimes.to_pickle('modeling_crimes.pkl')"
   ]
  },
  {
   "cell_type": "markdown",
   "metadata": {},
   "source": [
    "### Building Tableau Dataframes"
   ]
  },
  {
   "cell_type": "markdown",
   "metadata": {},
   "source": [
    "#### Crimes w/ metrics"
   ]
  },
  {
   "cell_type": "code",
   "execution_count": 34,
   "metadata": {},
   "outputs": [],
   "source": [
    "crimes_for_tableau = crimes_comm_radius_metrics.copy()"
   ]
  },
  {
   "cell_type": "code",
   "execution_count": 35,
   "metadata": {},
   "outputs": [],
   "source": [
    "crimes_for_tableau['lat'] = crimes_for_tableau['location'].apply(lambda x: x[0])"
   ]
  },
  {
   "cell_type": "code",
   "execution_count": 36,
   "metadata": {},
   "outputs": [],
   "source": [
    "crimes_for_tableau['long'] = crimes_for_tableau['location'].apply(lambda x: x[1])"
   ]
  },
  {
   "cell_type": "code",
   "execution_count": 37,
   "metadata": {},
   "outputs": [],
   "source": [
    "crimes_for_tableau.drop(['type', 'desc', 'comm_num', 'location'], axis=1, inplace=True, errors='ignore')"
   ]
  },
  {
   "cell_type": "code",
   "execution_count": 38,
   "metadata": {},
   "outputs": [],
   "source": [
    "crimes_for_tableau = pd.concat([crimes_for_tableau.drop([\n",
    "                            'student_growth_rating', 'school_survey_involved_families',\n",
    "                            'school_survey_supportive_environment', 'school_survey_ambitious_instruction',\n",
    "                            'school_survey_effective_leaders', 'school_survey_collaborative_teachers',\n",
    "                            'school_survey_safety', 'school_quality'], axis=1),\n",
    "                             pd.get_dummies(crimes_for_tableau['school_quality'])], axis=1)"
   ]
  },
  {
   "cell_type": "code",
   "execution_count": 39,
   "metadata": {},
   "outputs": [],
   "source": [
    "crimes_for_tableau.to_pickle('crimes_for_tableau.pkl')"
   ]
  },
  {
   "cell_type": "markdown",
   "metadata": {},
   "source": [
    "#### Clinics"
   ]
  },
  {
   "cell_type": "code",
   "execution_count": 7,
   "metadata": {},
   "outputs": [],
   "source": [
    "clinics = pd.read_pickle('clinics.pkl')"
   ]
  },
  {
   "cell_type": "code",
   "execution_count": 8,
   "metadata": {},
   "outputs": [],
   "source": [
    "clinics['lat'] = clinics['location'].apply(lambda x: x[0])"
   ]
  },
  {
   "cell_type": "code",
   "execution_count": 9,
   "metadata": {},
   "outputs": [],
   "source": [
    "clinics['long'] = clinics['location'].apply(lambda x: x[1])"
   ]
  },
  {
   "cell_type": "code",
   "execution_count": 10,
   "metadata": {},
   "outputs": [],
   "source": [
    "clinics_for_tableau = clinics[['facility', 'community_name', 'lat', 'long']]"
   ]
  },
  {
   "cell_type": "code",
   "execution_count": 11,
   "metadata": {},
   "outputs": [],
   "source": [
    "clinics_for_tableau['facility_type'] = pd.Series('clinic', index=clinics_for_tableau.index)"
   ]
  },
  {
   "cell_type": "code",
   "execution_count": 12,
   "metadata": {},
   "outputs": [],
   "source": [
    "clinics_for_tableau.rename(columns={'facility': 'name'}, inplace=True, errors='ignore')"
   ]
  },
  {
   "cell_type": "markdown",
   "metadata": {},
   "source": [
    "#### Grocery Stores"
   ]
  },
  {
   "cell_type": "code",
   "execution_count": 13,
   "metadata": {},
   "outputs": [],
   "source": [
    "grocery_stores = pd.read_pickle('grocery_stores.pkl')"
   ]
  },
  {
   "cell_type": "code",
   "execution_count": 14,
   "metadata": {},
   "outputs": [],
   "source": [
    "grocery_stores['lat'] = grocery_stores['location'].apply(lambda x: x[0])"
   ]
  },
  {
   "cell_type": "code",
   "execution_count": 15,
   "metadata": {},
   "outputs": [],
   "source": [
    "grocery_stores['long'] = grocery_stores['location'].apply(lambda x: x[1])"
   ]
  },
  {
   "cell_type": "code",
   "execution_count": 16,
   "metadata": {},
   "outputs": [],
   "source": [
    "grocery_stores_for_tableau = grocery_stores[['store_name', 'community_name', 'lat', 'long']]"
   ]
  },
  {
   "cell_type": "code",
   "execution_count": 17,
   "metadata": {},
   "outputs": [],
   "source": [
    "grocery_stores_for_tableau['facility_type'] = pd.Series('grocery_store', index=grocery_stores_for_tableau.index)"
   ]
  },
  {
   "cell_type": "code",
   "execution_count": 18,
   "metadata": {},
   "outputs": [],
   "source": [
    "grocery_stores_for_tableau.rename(columns={'store_name': 'name'}, inplace=True, errors='ignore')"
   ]
  },
  {
   "cell_type": "markdown",
   "metadata": {},
   "source": [
    "#### Libraries"
   ]
  },
  {
   "cell_type": "code",
   "execution_count": 19,
   "metadata": {},
   "outputs": [],
   "source": [
    "libraries = pd.read_pickle('libraries.pkl')"
   ]
  },
  {
   "cell_type": "code",
   "execution_count": 20,
   "metadata": {},
   "outputs": [],
   "source": [
    "libraries['lat'] = libraries['location'].apply(lambda x: x[0])"
   ]
  },
  {
   "cell_type": "code",
   "execution_count": 21,
   "metadata": {},
   "outputs": [],
   "source": [
    "libraries['long'] = libraries['location'].apply(lambda x: x[1])"
   ]
  },
  {
   "cell_type": "code",
   "execution_count": 22,
   "metadata": {},
   "outputs": [],
   "source": [
    "libraries_for_tableau = libraries[['name', 'community_name', 'lat', 'long']]"
   ]
  },
  {
   "cell_type": "code",
   "execution_count": 23,
   "metadata": {},
   "outputs": [],
   "source": [
    "libraries_for_tableau['facility_type'] = pd.Series('library', index=libraries_for_tableau.index)"
   ]
  },
  {
   "cell_type": "markdown",
   "metadata": {},
   "source": [
    "#### Pharmacies"
   ]
  },
  {
   "cell_type": "code",
   "execution_count": 24,
   "metadata": {},
   "outputs": [],
   "source": [
    "pharmacies = pd.read_pickle('pharmacies.pkl')"
   ]
  },
  {
   "cell_type": "code",
   "execution_count": 25,
   "metadata": {},
   "outputs": [],
   "source": [
    "pharmacies['lat'] = pharmacies['location'].apply(lambda x: x[0])"
   ]
  },
  {
   "cell_type": "code",
   "execution_count": 26,
   "metadata": {},
   "outputs": [],
   "source": [
    "pharmacies['long'] = pharmacies['location'].apply(lambda x: x[1])"
   ]
  },
  {
   "cell_type": "code",
   "execution_count": 27,
   "metadata": {},
   "outputs": [],
   "source": [
    "pharmacies_for_tableau = pharmacies[['pharmacy_name', 'community_name', 'lat', 'long']]"
   ]
  },
  {
   "cell_type": "code",
   "execution_count": 28,
   "metadata": {},
   "outputs": [],
   "source": [
    "pharmacies_for_tableau['facility_type'] = pd.Series('pharmacy', index=pharmacies_for_tableau.index)"
   ]
  },
  {
   "cell_type": "code",
   "execution_count": 29,
   "metadata": {},
   "outputs": [],
   "source": [
    "pharmacies_for_tableau.rename(columns={'pharmacy_name': 'name'}, inplace=True, errors='ignore')"
   ]
  },
  {
   "cell_type": "markdown",
   "metadata": {},
   "source": [
    "#### Schools"
   ]
  },
  {
   "cell_type": "code",
   "execution_count": 30,
   "metadata": {},
   "outputs": [],
   "source": [
    "schools = pd.read_pickle('schools.pkl')"
   ]
  },
  {
   "cell_type": "code",
   "execution_count": 31,
   "metadata": {},
   "outputs": [],
   "source": [
    "schools['lat'] = schools['location'].apply(lambda x: x[0])"
   ]
  },
  {
   "cell_type": "code",
   "execution_count": 32,
   "metadata": {},
   "outputs": [],
   "source": [
    "schools['long'] = schools['location'].apply(lambda x: x[1])"
   ]
  },
  {
   "cell_type": "code",
   "execution_count": 33,
   "metadata": {},
   "outputs": [],
   "source": [
    "schools_for_tableau = schools[['long_name', 'community_name', 'lat', 'long']]"
   ]
  },
  {
   "cell_type": "code",
   "execution_count": 34,
   "metadata": {},
   "outputs": [],
   "source": [
    "schools_for_tableau['facility_type'] = pd.Series('school', index=schools_for_tableau.index)"
   ]
  },
  {
   "cell_type": "code",
   "execution_count": 35,
   "metadata": {},
   "outputs": [],
   "source": [
    "schools_for_tableau.rename(columns={'long_name': 'name'}, inplace=True, errors='ignore')"
   ]
  },
  {
   "cell_type": "markdown",
   "metadata": {},
   "source": [
    "#### Combining Facilities"
   ]
  },
  {
   "cell_type": "code",
   "execution_count": 36,
   "metadata": {},
   "outputs": [],
   "source": [
    "facilities_for_tableau = pd.concat([clinics_for_tableau, grocery_stores_for_tableau, libraries_for_tableau, pharmacies_for_tableau, schools_for_tableau])"
   ]
  },
  {
   "cell_type": "code",
   "execution_count": 39,
   "metadata": {},
   "outputs": [],
   "source": [
    "facilities_for_tableau['facility_type'] = facilities_for_tableau['facility_type'].apply(lambda x: x.replace('_', ' ').title())"
   ]
  },
  {
   "cell_type": "code",
   "execution_count": 40,
   "metadata": {},
   "outputs": [],
   "source": [
    "facilities_for_tableau.to_csv('facilities_for_tableau.csv')"
   ]
  }
 ],
 "metadata": {
  "kernelspec": {
   "display_name": "metis",
   "language": "python",
   "name": "metis"
  },
  "language_info": {
   "codemirror_mode": {
    "name": "ipython",
    "version": 3
   },
   "file_extension": ".py",
   "mimetype": "text/x-python",
   "name": "python",
   "nbconvert_exporter": "python",
   "pygments_lexer": "ipython3",
   "version": "3.8.5"
  },
  "toc": {
   "base_numbering": 1,
   "nav_menu": {},
   "number_sections": true,
   "sideBar": false,
   "skip_h1_title": false,
   "title_cell": "Table of Contents",
   "title_sidebar": "Contents",
   "toc_cell": false,
   "toc_position": {},
   "toc_section_display": true,
   "toc_window_display": false
  }
 },
 "nbformat": 4,
 "nbformat_minor": 4
}
