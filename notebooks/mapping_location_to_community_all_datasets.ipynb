{
 "cells": [
  {
   "cell_type": "markdown",
   "metadata": {},
   "source": [
    "### Imports"
   ]
  },
  {
   "cell_type": "code",
   "execution_count": 170,
   "metadata": {},
   "outputs": [],
   "source": [
    "import pandas as pd\n",
    "import numpy as np\n",
    "from shapely.geometry import Point\n",
    "from geolocating_functions import get_community_name, chicago_lat_long_builder\n",
    "from school_cleaning_functions import school_survey_cleaner, school_growth_cleaner"
   ]
  },
  {
   "cell_type": "markdown",
   "metadata": {},
   "source": [
    "### Building geolocation to community map"
   ]
  },
  {
   "cell_type": "code",
   "execution_count": 2,
   "metadata": {},
   "outputs": [],
   "source": [
    "comm_areas = pd.read_csv('CommAreas.csv')"
   ]
  },
  {
   "cell_type": "code",
   "execution_count": 3,
   "metadata": {},
   "outputs": [],
   "source": [
    "comm_map = pd.DataFrame()"
   ]
  },
  {
   "cell_type": "code",
   "execution_count": 5,
   "metadata": {},
   "outputs": [],
   "source": [
    "comm_map['perim_lat_long_points'] = comm_areas['the_geom'].apply(chicago_lat_long_builder)\n",
    "comm_map['comm_name'] = comm_areas['COMMUNITY'].apply(lambda x: x.lower())\n",
    "comm_map['comm_num'] = comm_areas['AREA_NUM_1'].astype(int)"
   ]
  },
  {
   "cell_type": "code",
   "execution_count": 6,
   "metadata": {},
   "outputs": [
    {
     "data": {
      "text/html": [
       "<div>\n",
       "<style scoped>\n",
       "    .dataframe tbody tr th:only-of-type {\n",
       "        vertical-align: middle;\n",
       "    }\n",
       "\n",
       "    .dataframe tbody tr th {\n",
       "        vertical-align: top;\n",
       "    }\n",
       "\n",
       "    .dataframe thead th {\n",
       "        text-align: right;\n",
       "    }\n",
       "</style>\n",
       "<table border=\"1\" class=\"dataframe\">\n",
       "  <thead>\n",
       "    <tr style=\"text-align: right;\">\n",
       "      <th></th>\n",
       "      <th>perim_lat_long_points</th>\n",
       "      <th>comm_name</th>\n",
       "      <th>comm_num</th>\n",
       "    </tr>\n",
       "  </thead>\n",
       "  <tbody>\n",
       "    <tr>\n",
       "      <th>0</th>\n",
       "      <td>[(41.84469250265398, -87.60914087617894), (41....</td>\n",
       "      <td>douglas</td>\n",
       "      <td>35</td>\n",
       "    </tr>\n",
       "    <tr>\n",
       "      <th>1</th>\n",
       "      <td>[(41.81692934626684, -87.59215283879394), (41....</td>\n",
       "      <td>oakland</td>\n",
       "      <td>36</td>\n",
       "    </tr>\n",
       "    <tr>\n",
       "      <th>2</th>\n",
       "      <td>[(41.80189303368919, -87.62879823733725), (41....</td>\n",
       "      <td>fuller park</td>\n",
       "      <td>37</td>\n",
       "    </tr>\n",
       "    <tr>\n",
       "      <th>3</th>\n",
       "      <td>[(41.81681377057218, -87.6067081256125), (41.8...</td>\n",
       "      <td>grand boulevard</td>\n",
       "      <td>38</td>\n",
       "    </tr>\n",
       "    <tr>\n",
       "      <th>4</th>\n",
       "      <td>[(41.81692934626684, -87.59215283879394), (41....</td>\n",
       "      <td>kenwood</td>\n",
       "      <td>39</td>\n",
       "    </tr>\n",
       "    <tr>\n",
       "      <th>...</th>\n",
       "      <td>...</td>\n",
       "      <td>...</td>\n",
       "      <td>...</td>\n",
       "    </tr>\n",
       "    <tr>\n",
       "      <th>72</th>\n",
       "      <td>[(41.70714491233857, -87.69645961375822), (41....</td>\n",
       "      <td>mount greenwood</td>\n",
       "      <td>74</td>\n",
       "    </tr>\n",
       "    <tr>\n",
       "      <th>73</th>\n",
       "      <td>[(41.685082119670845, -87.64215204651398), (41...</td>\n",
       "      <td>morgan park</td>\n",
       "      <td>75</td>\n",
       "    </tr>\n",
       "    <tr>\n",
       "      <th>74</th>\n",
       "      <td>[(41.986396111591276, -87.83658087874365), (41...</td>\n",
       "      <td>ohare</td>\n",
       "      <td>76</td>\n",
       "    </tr>\n",
       "    <tr>\n",
       "      <th>75</th>\n",
       "      <td>[(41.99816614970252, -87.65455590025104), (41....</td>\n",
       "      <td>edgewater</td>\n",
       "      <td>77</td>\n",
       "    </tr>\n",
       "    <tr>\n",
       "      <th>76</th>\n",
       "      <td>[(42.00083736081486, -87.80675853375328), (42....</td>\n",
       "      <td>edison park</td>\n",
       "      <td>9</td>\n",
       "    </tr>\n",
       "  </tbody>\n",
       "</table>\n",
       "<p>77 rows × 3 columns</p>\n",
       "</div>"
      ],
      "text/plain": [
       "                                perim_lat_long_points        comm_name  \\\n",
       "0   [(41.84469250265398, -87.60914087617894), (41....          douglas   \n",
       "1   [(41.81692934626684, -87.59215283879394), (41....          oakland   \n",
       "2   [(41.80189303368919, -87.62879823733725), (41....      fuller park   \n",
       "3   [(41.81681377057218, -87.6067081256125), (41.8...  grand boulevard   \n",
       "4   [(41.81692934626684, -87.59215283879394), (41....          kenwood   \n",
       "..                                                ...              ...   \n",
       "72  [(41.70714491233857, -87.69645961375822), (41....  mount greenwood   \n",
       "73  [(41.685082119670845, -87.64215204651398), (41...      morgan park   \n",
       "74  [(41.986396111591276, -87.83658087874365), (41...            ohare   \n",
       "75  [(41.99816614970252, -87.65455590025104), (41....        edgewater   \n",
       "76  [(42.00083736081486, -87.80675853375328), (42....      edison park   \n",
       "\n",
       "    comm_num  \n",
       "0         35  \n",
       "1         36  \n",
       "2         37  \n",
       "3         38  \n",
       "4         39  \n",
       "..       ...  \n",
       "72        74  \n",
       "73        75  \n",
       "74        76  \n",
       "75        77  \n",
       "76         9  \n",
       "\n",
       "[77 rows x 3 columns]"
      ]
     },
     "execution_count": 6,
     "metadata": {},
     "output_type": "execute_result"
    }
   ],
   "source": [
    "comm_map"
   ]
  },
  {
   "cell_type": "code",
   "execution_count": 7,
   "metadata": {},
   "outputs": [],
   "source": [
    "comm_map.to_pickle('comm_map.pkl')"
   ]
  },
  {
   "cell_type": "markdown",
   "metadata": {},
   "source": [
    "### Preparing the datasets with mergable column"
   ]
  },
  {
   "cell_type": "markdown",
   "metadata": {},
   "source": [
    "##### Column Cleaner"
   ]
  },
  {
   "cell_type": "code",
   "execution_count": 77,
   "metadata": {},
   "outputs": [],
   "source": [
    "def column_cleaner(dataframe):\n",
    "    \n",
    "    for col in dataframe.columns:\n",
    "    \n",
    "        dataframe.rename(columns={col: col.lower().strip()}, inplace=True)"
   ]
  },
  {
   "cell_type": "markdown",
   "metadata": {},
   "source": [
    "#### Libraries"
   ]
  },
  {
   "cell_type": "code",
   "execution_count": 166,
   "metadata": {},
   "outputs": [],
   "source": [
    "libraries = pd.read_csv('Libraries_-_Locations__Hours_and_Contact_Information.csv')"
   ]
  },
  {
   "cell_type": "code",
   "execution_count": 167,
   "metadata": {},
   "outputs": [],
   "source": [
    "libraries['LOCATION'] = libraries['LOCATION'].apply(chicago_lat_long_builder)"
   ]
  },
  {
   "cell_type": "code",
   "execution_count": 168,
   "metadata": {},
   "outputs": [],
   "source": [
    "libraries['community_name'] = libraries['LOCATION'].apply(get_community_name)"
   ]
  },
  {
   "cell_type": "code",
   "execution_count": 171,
   "metadata": {},
   "outputs": [],
   "source": [
    "column_cleaner(libraries)\n",
    "libraries.drop_duplicates(['location'], inplace=True)\n",
    "libraries['points'] = libraries['location'].apply(lambda x: Point(x))\n",
    "libraries.reset_index(inplace=True, drop=True)\n",
    "libraries[['name', 'location', 'community_name', 'points']].to_pickle('libraries.pkl')"
   ]
  },
  {
   "cell_type": "markdown",
   "metadata": {},
   "source": [
    "#### Clinics"
   ]
  },
  {
   "cell_type": "code",
   "execution_count": 179,
   "metadata": {},
   "outputs": [],
   "source": [
    "clinics = pd.read_csv('Public_Health_Services-_Chicago_Primary_Care_Community_Health_Centers.csv')"
   ]
  },
  {
   "cell_type": "code",
   "execution_count": 180,
   "metadata": {},
   "outputs": [],
   "source": [
    "clinics['community_name'] = clinics['Community Area (#)'].apply(lambda x: ' '.join([x for x in x.lower().split() if x.isalpha()]))"
   ]
  },
  {
   "cell_type": "code",
   "execution_count": 181,
   "metadata": {},
   "outputs": [],
   "source": [
    "clinics['location'] = clinics['Address'].apply(lambda x: x.split('\\n')[1])"
   ]
  },
  {
   "cell_type": "code",
   "execution_count": 182,
   "metadata": {},
   "outputs": [],
   "source": [
    "clinics['location'] = clinics['location'].apply(chicago_lat_long_builder)"
   ]
  },
  {
   "cell_type": "code",
   "execution_count": 183,
   "metadata": {},
   "outputs": [],
   "source": [
    "clinics['points'] = clinics['location'].apply(lambda x: Point(x))"
   ]
  },
  {
   "cell_type": "code",
   "execution_count": 184,
   "metadata": {},
   "outputs": [],
   "source": [
    "clinics.rename(columns={'FQHC, Look-alike, or Neither; Special Notes': 'clinic_type'}, inplace=True)"
   ]
  },
  {
   "cell_type": "code",
   "execution_count": 185,
   "metadata": {},
   "outputs": [],
   "source": [
    "column_cleaner(clinics)\n",
    "clinics.drop_duplicates(['location'], inplace=True)\n",
    "clinics.reset_index(inplace=True, drop=True)\n",
    "clinics[['facility', 'clinic_type', 'community_name', 'location', 'points']].to_pickle('clinics.pkl')"
   ]
  },
  {
   "cell_type": "markdown",
   "metadata": {},
   "source": [
    "#### Grocery Stores"
   ]
  },
  {
   "cell_type": "code",
   "execution_count": 191,
   "metadata": {},
   "outputs": [],
   "source": [
    "groc_stores = pd.read_csv('Grocery_Stores_-_2013.csv')"
   ]
  },
  {
   "cell_type": "code",
   "execution_count": 192,
   "metadata": {},
   "outputs": [],
   "source": [
    "column_cleaner(groc_stores)"
   ]
  },
  {
   "cell_type": "code",
   "execution_count": 193,
   "metadata": {},
   "outputs": [],
   "source": [
    "groc_stores.rename(columns={'store name': 'store_name',\\\n",
    "                            'community area name': 'community_name', \\\n",
    "                            'community area': 'community_number', \\\n",
    "                            'square feet': 'sq_ft', \\\n",
    "                            'buffer size': 'buffer_size'}, inplace=True, errors='ignore')\n",
    "groc_stores['community_name'] = groc_stores['community_name'].apply(lambda x: x.lower())\n",
    "groc_stores['location'] = groc_stores['location'].apply(chicago_lat_long_builder)\n",
    "groc_stores['buffer_size'] = groc_stores['buffer_size'].apply(lambda x: 1 if x == 'A' else 0)\n",
    "groc_stores.drop_duplicates(['location'], inplace=True)\n",
    "groc_stores['points'] = groc_stores['location'].apply(lambda x: Point(x))\n",
    "groc_stores.reset_index(inplace=True, drop=True)"
   ]
  },
  {
   "cell_type": "code",
   "execution_count": 194,
   "metadata": {},
   "outputs": [],
   "source": [
    "groc_stores[['store_name', 'sq_ft', 'buffer_size', 'community_name', 'community_number', 'location', 'points']].to_pickle('grocery_stores.pkl')"
   ]
  },
  {
   "cell_type": "markdown",
   "metadata": {},
   "source": [
    "#### Pharmacies"
   ]
  },
  {
   "cell_type": "code",
   "execution_count": 195,
   "metadata": {},
   "outputs": [],
   "source": [
    "pharma = pd.read_csv('Pharmacy_Status.csv')"
   ]
  },
  {
   "cell_type": "code",
   "execution_count": 196,
   "metadata": {},
   "outputs": [],
   "source": [
    "column_cleaner(pharma)"
   ]
  },
  {
   "cell_type": "code",
   "execution_count": 197,
   "metadata": {},
   "outputs": [],
   "source": [
    "pharma.rename(columns={'pharmacy name': 'pharmacy_name', \\\n",
    "                       'new georeferenced column': 'location'}, inplace=True, errors='ingore')"
   ]
  },
  {
   "cell_type": "code",
   "execution_count": 198,
   "metadata": {},
   "outputs": [],
   "source": [
    "pharma['status'] = pharma['status'].apply(lambda x: x.lower())"
   ]
  },
  {
   "cell_type": "code",
   "execution_count": 199,
   "metadata": {},
   "outputs": [],
   "source": [
    "pharma_open = pharma[pharma['status'] != 'permanently closed'].reset_index(drop=True)"
   ]
  },
  {
   "cell_type": "code",
   "execution_count": 200,
   "metadata": {},
   "outputs": [],
   "source": [
    "pharma_open = pharma_open[['pharmacy_name','address', 'location']].dropna().reset_index(drop=True)"
   ]
  },
  {
   "cell_type": "code",
   "execution_count": 201,
   "metadata": {},
   "outputs": [],
   "source": [
    "pharma_open['location'] = pharma_open['location'].apply(chicago_lat_long_builder)"
   ]
  },
  {
   "cell_type": "code",
   "execution_count": 202,
   "metadata": {},
   "outputs": [],
   "source": [
    "pharma_open['community_name'] = pharma_open['location'].apply(get_community_name)"
   ]
  },
  {
   "cell_type": "code",
   "execution_count": 203,
   "metadata": {},
   "outputs": [],
   "source": [
    "pharma_open.drop_duplicates(['location'], inplace=True)\n",
    "pharma_open['points'] = pharma_open['location'].apply(lambda x: Point(x))\n",
    "pharma_open.reset_index(inplace=True, drop=True)"
   ]
  },
  {
   "cell_type": "code",
   "execution_count": 204,
   "metadata": {},
   "outputs": [],
   "source": [
    "pharma_open.to_pickle('pharmacies.pkl')"
   ]
  },
  {
   "cell_type": "markdown",
   "metadata": {},
   "source": [
    "#### Schools"
   ]
  },
  {
   "cell_type": "code",
   "execution_count": 205,
   "metadata": {},
   "outputs": [],
   "source": [
    "school_locations = pd.read_csv('Chicago_Public_Schools_-_School_Locations_SY1920.csv')"
   ]
  },
  {
   "cell_type": "code",
   "execution_count": 206,
   "metadata": {},
   "outputs": [],
   "source": [
    "school_progress_report = pd.read_csv('Chicago_Public_Schools_-_School_Progress_Reports_SY1819.csv')"
   ]
  },
  {
   "cell_type": "code",
   "execution_count": 207,
   "metadata": {},
   "outputs": [
    {
     "data": {
      "text/plain": [
       "(None, None)"
      ]
     },
     "execution_count": 207,
     "metadata": {},
     "output_type": "execute_result"
    }
   ],
   "source": [
    "column_cleaner(school_locations), column_cleaner(school_progress_report)"
   ]
  },
  {
   "cell_type": "code",
   "execution_count": 208,
   "metadata": {},
   "outputs": [],
   "source": [
    "school_loc_merger = school_locations[['the_geom', 'school_id']]"
   ]
  },
  {
   "cell_type": "code",
   "execution_count": 209,
   "metadata": {},
   "outputs": [],
   "source": [
    "school_prog_merger = school_progress_report[['school_id', 'long_name', 'school_type', 'student_growth_rating', \\\n",
    "                        'school_survey_involved_families', 'school_survey_supportive_environment', \\\n",
    "                        'school_survey_ambitious_instruction', 'school_survey_effective_leaders', \\\n",
    "                        'school_survey_collaborative_teachers', 'school_survey_safety', \\\n",
    "                        'mobility_rate_pct', 'chronic_truancy_pct']]"
   ]
  },
  {
   "cell_type": "code",
   "execution_count": 210,
   "metadata": {},
   "outputs": [],
   "source": [
    "schools = pd.merge(school_loc_merger, school_prog_merger, on='school_id')"
   ]
  },
  {
   "cell_type": "code",
   "execution_count": 211,
   "metadata": {},
   "outputs": [],
   "source": [
    "schools.rename(columns={'the_geom': 'location'}, inplace=True, errors='ignore')"
   ]
  },
  {
   "cell_type": "code",
   "execution_count": 212,
   "metadata": {},
   "outputs": [],
   "source": [
    "schools['location'] = schools['location'].apply(chicago_lat_long_builder)"
   ]
  },
  {
   "cell_type": "code",
   "execution_count": 213,
   "metadata": {},
   "outputs": [],
   "source": [
    "schools['points'] = schools['location'].apply(lambda x: Point(x))"
   ]
  },
  {
   "cell_type": "code",
   "execution_count": 214,
   "metadata": {},
   "outputs": [],
   "source": [
    "schools['community_name'] = schools['location'].apply(get_community_name)"
   ]
  },
  {
   "cell_type": "code",
   "execution_count": 215,
   "metadata": {},
   "outputs": [],
   "source": [
    "for col in schools.columns:\n",
    "    if 'school_survey' in col:\n",
    "        schools[col] = schools[col].apply(school_survey_cleaner)\n",
    "    if 'student_growth' in col:\n",
    "        schools[col] = schools[col].apply(school_growth_cleaner)"
   ]
  },
  {
   "cell_type": "code",
   "execution_count": 216,
   "metadata": {},
   "outputs": [],
   "source": [
    "prestigious = ['Charter', 'Regional gifted center', 'Magnet', 'Selective enrollment']"
   ]
  },
  {
   "cell_type": "code",
   "execution_count": 217,
   "metadata": {},
   "outputs": [],
   "source": [
    "schools['prestigious_school'] = schools['school_type'].apply(lambda x: 1 if x in prestigious else 0)"
   ]
  },
  {
   "cell_type": "code",
   "execution_count": 218,
   "metadata": {},
   "outputs": [],
   "source": [
    "schools.to_pickle('schools.pkl')"
   ]
  },
  {
   "cell_type": "markdown",
   "metadata": {},
   "source": [
    "#### Food Inspections"
   ]
  },
  {
   "cell_type": "code",
   "execution_count": 219,
   "metadata": {},
   "outputs": [],
   "source": [
    "food_inspections_base = pd.read_csv('Food_Inspections_-_7_1_2018_-_Present.csv')"
   ]
  },
  {
   "cell_type": "code",
   "execution_count": 220,
   "metadata": {},
   "outputs": [],
   "source": [
    "column_cleaner(food_inspections_base)"
   ]
  },
  {
   "cell_type": "code",
   "execution_count": 221,
   "metadata": {},
   "outputs": [],
   "source": [
    "food_inspections_full = food_inspections_base[['risk', 'inspection date', 'results', 'location']]"
   ]
  },
  {
   "cell_type": "code",
   "execution_count": 222,
   "metadata": {},
   "outputs": [
    {
     "name": "stderr",
     "output_type": "stream",
     "text": [
      "<ipython-input-222-8ca8b47276e4>:1: SettingWithCopyWarning: \n",
      "A value is trying to be set on a copy of a slice from a DataFrame.\n",
      "Try using .loc[row_indexer,col_indexer] = value instead\n",
      "\n",
      "See the caveats in the documentation: https://pandas.pydata.org/pandas-docs/stable/user_guide/indexing.html#returning-a-view-versus-a-copy\n",
      "  food_inspections_full['year'] = pd.to_datetime(food_inspections_full['inspection date']).apply(lambda x: x.year)\n"
     ]
    }
   ],
   "source": [
    "food_inspections_full['year'] = pd.to_datetime(food_inspections_full['inspection date']).apply(lambda x: x.year)"
   ]
  },
  {
   "cell_type": "code",
   "execution_count": 223,
   "metadata": {},
   "outputs": [],
   "source": [
    "food_inspections_2019 = food_inspections_full[food_inspections_full['year'] == 2019].reset_index(drop=True)"
   ]
  },
  {
   "cell_type": "code",
   "execution_count": 224,
   "metadata": {},
   "outputs": [],
   "source": [
    "food_inspections_2019.drop(['inspection date', 'year'], axis=1, inplace=True, errors='ignore')"
   ]
  },
  {
   "cell_type": "code",
   "execution_count": 225,
   "metadata": {},
   "outputs": [],
   "source": [
    "food_inspections = food_inspections_2019.dropna().reset_index(drop=True)"
   ]
  },
  {
   "cell_type": "code",
   "execution_count": 226,
   "metadata": {},
   "outputs": [],
   "source": [
    "food_inspections['risk'] = food_inspections['risk'].apply(lambda x: 1 if x == 'Risk 1 (High)' else 0)"
   ]
  },
  {
   "cell_type": "code",
   "execution_count": 227,
   "metadata": {},
   "outputs": [],
   "source": [
    "food_inspections['results'] = food_inspections['results'].apply(lambda x: 1 if x == 'Fail' else 0)"
   ]
  },
  {
   "cell_type": "code",
   "execution_count": 228,
   "metadata": {},
   "outputs": [],
   "source": [
    "food_inspections.rename(columns={'risk': 'high_risk', 'results': 'failed_inspection'}, inplace=True, errors='ignore')"
   ]
  },
  {
   "cell_type": "code",
   "execution_count": 229,
   "metadata": {},
   "outputs": [],
   "source": [
    "food_inspections['location'] = food_inspections['location'].apply(chicago_lat_long_builder)"
   ]
  },
  {
   "cell_type": "code",
   "execution_count": 230,
   "metadata": {},
   "outputs": [],
   "source": [
    "food_inspections.drop_duplicates(['location'], inplace=True)"
   ]
  },
  {
   "cell_type": "code",
   "execution_count": 231,
   "metadata": {},
   "outputs": [],
   "source": [
    "food_inspections['points'] = food_inspections['location'].apply(lambda x: Point(x))"
   ]
  },
  {
   "cell_type": "code",
   "execution_count": 232,
   "metadata": {},
   "outputs": [],
   "source": [
    "food_inspections['community_name'] = food_inspections['location'].apply(get_community_name)"
   ]
  },
  {
   "cell_type": "code",
   "execution_count": 233,
   "metadata": {},
   "outputs": [],
   "source": [
    "food_inspections.to_pickle('food_inspections.pkl')"
   ]
  }
 ],
 "metadata": {
  "kernelspec": {
   "display_name": "metis",
   "language": "python",
   "name": "metis"
  },
  "language_info": {
   "codemirror_mode": {
    "name": "ipython",
    "version": 3
   },
   "file_extension": ".py",
   "mimetype": "text/x-python",
   "name": "python",
   "nbconvert_exporter": "python",
   "pygments_lexer": "ipython3",
   "version": "3.8.5"
  },
  "toc": {
   "base_numbering": 1,
   "nav_menu": {},
   "number_sections": true,
   "sideBar": false,
   "skip_h1_title": false,
   "title_cell": "Table of Contents",
   "title_sidebar": "Contents",
   "toc_cell": false,
   "toc_position": {},
   "toc_section_display": true,
   "toc_window_display": false
  }
 },
 "nbformat": 4,
 "nbformat_minor": 4
}
