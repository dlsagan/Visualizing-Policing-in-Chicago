{
 "cells": [
  {
   "cell_type": "code",
   "execution_count": 1,
   "metadata": {},
   "outputs": [],
   "source": [
    "from bs4 import BeautifulSoup\n",
    "import requests\n",
    "import pandas as pd\n",
    "\n",
    "pd.options.mode.chained_assignment = None\n",
    "pd.options.display.max_columns = 75"
   ]
  },
  {
   "cell_type": "code",
   "execution_count": 2,
   "metadata": {},
   "outputs": [],
   "source": [
    "pct_business_share_sales_url = 'https://www.housingstudies.org/data-portal/browse/?indicator=share-sales-business&view_as=view-table'\n",
    "\n",
    "total_mortgages_url = 'https://www.housingstudies.org/data-portal/browse/?indicator=total-mortgage-activity&area=chicago-community-areas&property_type=0&view_as=view-table'\n",
    "\n",
    "total_foreclosures_url = 'https://www.housingstudies.org/data-portal/browse/?indicator=total-foreclosure-activity&area=chicago-community-areas&property_type=0&view_as=view-table'\n",
    "\n",
    "housing_units_by_type_url = 'https://www.housingstudies.org/data-portal/browse/?indicator=housing-units-composition&area=chicago-community-areas&view_as=view-table'"
   ]
  },
  {
   "cell_type": "code",
   "execution_count": 3,
   "metadata": {},
   "outputs": [],
   "source": [
    "def scrape_page_for_housing_table(url):\n",
    "    \n",
    "    response = requests.get(url)\n",
    "    page = response.text\n",
    "    soup = BeautifulSoup(page, 'lxml')\n",
    "  \n",
    "    column_labels = []\n",
    "    for th in soup.find('thead').find_all('th'):\n",
    "        column_labels.append(th.text)\n",
    "    \n",
    "    max_row_counter = len(column_labels)\n",
    "    \n",
    "    tr_list = []\n",
    "\n",
    "    for tr_tag in soup.find('tbody').find_all('tr'):\n",
    "        tr_list.append(tr_tag)\n",
    "\n",
    "    list_of_td_tags = []\n",
    "\n",
    "    for tr in tr_list:\n",
    "        list_of_td_tags.extend(tr.find_all('td'))\n",
    "    \n",
    "    full_community_table = []\n",
    "    row_of_table = []\n",
    "\n",
    "    for td in list_of_td_tags:\n",
    "    \n",
    "        row_of_table.append(td.text)\n",
    "        if len(row_of_table) == max_row_counter:\n",
    "            full_community_table.append(row_of_table)\n",
    "            row_of_table = []\n",
    "\n",
    "    dict_map_value_to_column = dict()\n",
    "\n",
    "    for community_yearly_vals in full_community_table:\n",
    "        for i in range(max_row_counter):\n",
    "            if column_labels[i] in dict_map_value_to_column:\n",
    "                dict_map_value_to_column[column_labels[i]].append(community_yearly_vals[i])\n",
    "            else:\n",
    "                dict_map_value_to_column[column_labels[i]] = [community_yearly_vals[i]]\n",
    "\n",
    "    cleaned_community_table = pd.DataFrame(dict_map_value_to_column)\n",
    "    \n",
    "    return cleaned_community_table\n",
    "\n",
    "def clean_housing_df(dataframe):\n",
    "    \n",
    "    dataframe['Geography'] = dataframe['Geography'].apply(lambda x: x.replace('\\n', '').lower())\n",
    "    \n",
    "    for col in dataframe.columns[1:]:\n",
    "        \n",
    "        dataframe[col] = dataframe[col].apply(lambda x: x.replace('--', '0').replace('%', '').replace(',', '')).astype(float)\n",
    "        \n",
    "    return dataframe"
   ]
  },
  {
   "cell_type": "code",
   "execution_count": 18,
   "metadata": {},
   "outputs": [],
   "source": [
    "pct_business_share_sales = clean_housing_df(scrape_page_for_housing_table(pct_business_share_sales_url))"
   ]
  },
  {
   "cell_type": "code",
   "execution_count": 19,
   "metadata": {},
   "outputs": [],
   "source": [
    "total_mortgages = clean_housing_df(scrape_page_for_housing_table(total_mortgages_url))"
   ]
  },
  {
   "cell_type": "code",
   "execution_count": 20,
   "metadata": {},
   "outputs": [],
   "source": [
    "total_foreclosures = clean_housing_df(scrape_page_for_housing_table(total_foreclosures_url))"
   ]
  },
  {
   "cell_type": "code",
   "execution_count": 21,
   "metadata": {},
   "outputs": [],
   "source": [
    "housing_share = clean_housing_df(scrape_page_for_housing_table(housing_units_by_type_url))"
   ]
  },
  {
   "cell_type": "code",
   "execution_count": 22,
   "metadata": {},
   "outputs": [],
   "source": [
    "merging_pct_business_share_sales = pct_business_share_sales[['2019']]\n",
    "\n",
    "merging_pct_business_share_sales.rename(columns={'2019': 'pct_business_share_sales'}, inplace=True, errors='ignore')"
   ]
  },
  {
   "cell_type": "code",
   "execution_count": 23,
   "metadata": {},
   "outputs": [],
   "source": [
    "merging_total_foreclosures = total_foreclosures[['2019']]\n",
    "\n",
    "merging_total_foreclosures.rename(columns={'2019': 'total_foreclosures'}, inplace=True, errors='ignore')"
   ]
  },
  {
   "cell_type": "code",
   "execution_count": 24,
   "metadata": {},
   "outputs": [],
   "source": [
    "merging_total_mortgages = total_mortgages[['2019']]\n",
    "\n",
    "merging_total_mortgages.rename(columns={'2019': 'total_mortgages'}, inplace=True, errors='ignore')"
   ]
  },
  {
   "cell_type": "code",
   "execution_count": 25,
   "metadata": {},
   "outputs": [],
   "source": [
    "housing_share.drop(['All Residential Properties'], axis=1, inplace=True, errors='ignore')"
   ]
  },
  {
   "cell_type": "code",
   "execution_count": 26,
   "metadata": {},
   "outputs": [],
   "source": [
    "community_housing_metrics = pd.concat([housing_share, merging_pct_business_share_sales, merging_total_foreclosures, merging_total_mortgages], axis=1)"
   ]
  },
  {
   "cell_type": "code",
   "execution_count": 29,
   "metadata": {},
   "outputs": [],
   "source": [
    "community_housing_metrics['Geography'] = community_housing_metrics['Geography'].replace(\"o'hare\", 'ohare')"
   ]
  },
  {
   "cell_type": "code",
   "execution_count": 30,
   "metadata": {},
   "outputs": [],
   "source": [
    "community_housing_metrics.to_pickle('community_housing_metrics.pkl')"
   ]
  }
 ],
 "metadata": {
  "kernelspec": {
   "display_name": "metis",
   "language": "python",
   "name": "metis"
  },
  "language_info": {
   "codemirror_mode": {
    "name": "ipython",
    "version": 3
   },
   "file_extension": ".py",
   "mimetype": "text/x-python",
   "name": "python",
   "nbconvert_exporter": "python",
   "pygments_lexer": "ipython3",
   "version": "3.8.5"
  },
  "toc": {
   "base_numbering": 1,
   "nav_menu": {},
   "number_sections": true,
   "sideBar": false,
   "skip_h1_title": false,
   "title_cell": "Table of Contents",
   "title_sidebar": "Contents",
   "toc_cell": false,
   "toc_position": {},
   "toc_section_display": true,
   "toc_window_display": false
  }
 },
 "nbformat": 4,
 "nbformat_minor": 4
}
