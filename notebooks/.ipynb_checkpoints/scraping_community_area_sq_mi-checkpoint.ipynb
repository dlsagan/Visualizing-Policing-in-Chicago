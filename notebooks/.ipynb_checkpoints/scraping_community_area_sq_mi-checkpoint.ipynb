{
 "cells": [
  {
   "cell_type": "code",
   "execution_count": 1,
   "metadata": {},
   "outputs": [],
   "source": [
    "from bs4 import BeautifulSoup\n",
    "import requests\n",
    "import pandas as pd\n",
    "\n",
    "pd.options.mode.chained_assignment = None\n",
    "pd.options.display.max_columns = 25"
   ]
  },
  {
   "cell_type": "code",
   "execution_count": 2,
   "metadata": {},
   "outputs": [],
   "source": [
    "def scrape_page_for_community_table(url):\n",
    "    \n",
    "    response = requests.get(url)\n",
    "    page = response.text\n",
    "    soup = BeautifulSoup(page, 'lxml')\n",
    "    \n",
    "    tr_tags = []\n",
    "    \n",
    "    for tr in soup.find_all('tr'):\n",
    "        tr_tags.append(tr.text)\n",
    "    \n",
    "    column_labels = tr_tags[0].replace('\\n\\n', '\\n').split('\\n')[1:8]\n",
    "    \n",
    "    max_row_counter = len(column_labels)\n",
    "\n",
    "    table_vals = []\n",
    "\n",
    "    for table_row in tr_tags[1:78]:\n",
    "        table_vals.append(table_row.replace('\\n\\n', '\\n').split('\\n')[1:8])\n",
    "\n",
    "    dict_map_value_to_column = dict()\n",
    "\n",
    "    for community_vals in table_vals:\n",
    "        for i in range(max_row_counter):\n",
    "            if column_labels[i] in dict_map_value_to_column:\n",
    "                dict_map_value_to_column[column_labels[i]].append(community_vals[i])\n",
    "            else:\n",
    "                dict_map_value_to_column[column_labels[i]] = [community_vals[i]]\n",
    "\n",
    "    cleaned_community_table = pd.DataFrame(dict_map_value_to_column)\n",
    "    \n",
    "    return cleaned_community_table"
   ]
  },
  {
   "cell_type": "code",
   "execution_count": 3,
   "metadata": {},
   "outputs": [],
   "source": [
    "url = 'https://en.wikipedia.org/wiki/Community_areas_in_Chicago'"
   ]
  },
  {
   "cell_type": "code",
   "execution_count": 4,
   "metadata": {},
   "outputs": [],
   "source": [
    "wikipedia_community_table = scrape_page_for_community_table(url)"
   ]
  },
  {
   "cell_type": "code",
   "execution_count": 5,
   "metadata": {},
   "outputs": [
    {
     "data": {
      "text/plain": [
       "Index(['Number[8]', 'Name[8]', '2017[update] population[9]',\n",
       "       'Area (sq mi.)[10]', 'Area (km2)',\n",
       "       '2017[update] populationdensity (/sq mi.)',\n",
       "       '2017[update] populationdensity (/km2)'],\n",
       "      dtype='object')"
      ]
     },
     "execution_count": 5,
     "metadata": {},
     "output_type": "execute_result"
    }
   ],
   "source": [
    "wikipedia_community_table.columns"
   ]
  },
  {
   "cell_type": "code",
   "execution_count": 6,
   "metadata": {},
   "outputs": [],
   "source": [
    "wikipedia_community_table.rename(columns={'Name[8]': 'community_name', 'Area (sq mi.)[10]': 'sq_mi'}, inplace=True, errors='ignore')"
   ]
  },
  {
   "cell_type": "code",
   "execution_count": 7,
   "metadata": {},
   "outputs": [],
   "source": [
    "community_size = wikipedia_community_table[['community_name', 'sq_mi']]"
   ]
  },
  {
   "cell_type": "code",
   "execution_count": 8,
   "metadata": {},
   "outputs": [],
   "source": [
    "community_size['community_name'] = community_size['community_name'].apply(lambda x: x.lower())\n",
    "community_size['sq_mi'] = community_size['sq_mi'].astype(float)"
   ]
  },
  {
   "cell_type": "code",
   "execution_count": 15,
   "metadata": {},
   "outputs": [],
   "source": [
    "community_size['community_name'] = community_size['community_name'].replace(\"o'hare\", 'ohare').replace('(the) loop[11]', 'loop')"
   ]
  },
  {
   "cell_type": "code",
   "execution_count": 16,
   "metadata": {},
   "outputs": [],
   "source": [
    "community_size.to_pickle('community_sq_mi.pkl')"
   ]
  }
 ],
 "metadata": {
  "kernelspec": {
   "display_name": "metis",
   "language": "python",
   "name": "metis"
  },
  "language_info": {
   "codemirror_mode": {
    "name": "ipython",
    "version": 3
   },
   "file_extension": ".py",
   "mimetype": "text/x-python",
   "name": "python",
   "nbconvert_exporter": "python",
   "pygments_lexer": "ipython3",
   "version": "3.8.5"
  },
  "toc": {
   "base_numbering": 1,
   "nav_menu": {},
   "number_sections": true,
   "sideBar": false,
   "skip_h1_title": false,
   "title_cell": "Table of Contents",
   "title_sidebar": "Contents",
   "toc_cell": false,
   "toc_position": {},
   "toc_section_display": true,
   "toc_window_display": false
  }
 },
 "nbformat": 4,
 "nbformat_minor": 4
}
